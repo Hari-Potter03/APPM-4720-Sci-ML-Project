{
  "cells": [
    {
      "cell_type": "code",
      "execution_count": null,
      "metadata": {
        "id": "U6w1rDdSsJBv"
      },
      "outputs": [],
      "source": [
        "import torch\n",
        "import torch.nn as nn\n",
        "import torch.nn.functional as F\n",
        "\n",
        "class UNet(nn.Module):\n",
        "    def __init__(self, in_channels, out_channels):\n",
        "        super(UNet, self).__init__()\n",
        "\n",
        "        # Encoder (downsampling)\n",
        "        self.enc1 = self.conv_block(in_channels, 64)\n",
        "        self.enc2 = self.conv_block(64, 128)\n",
        "        self.enc3 = self.conv_block(128, 256)\n",
        "        self.enc4 = self.conv_block(256, 512)\n",
        "\n",
        "        # Bottleneck\n",
        "        self.bottleneck = self.conv_block(512, 1024)\n",
        "\n",
        "        # Decoder (upsampling)\n",
        "        self.upconv4 = self.upconv_block(1024, 512)\n",
        "        self.upconv3 = self.upconv_block(512, 256)\n",
        "        self.upconv2 = self.upconv_block(256, 128)\n",
        "        self.upconv1 = self.upconv_block(128, 64)\n",
        "\n",
        "        # Final convolution\n",
        "        self.final_conv = nn.Conv2d(64, out_channels, kernel_size=1)\n",
        "\n",
        "    def conv_block(self, in_channels, out_channels):\n",
        "        return nn.Sequential(\n",
        "            nn.Conv2d(in_channels, out_channels, kernel_size=3, stride=1, padding=1),\n",
        "            nn.ReLU(inplace=True),\n",
        "            nn.Conv2d(out_channels, out_channels, kernel_size=3, stride=1, padding=1),\n",
        "            nn.ReLU(inplace=True)\n",
        "        )\n",
        "\n",
        "    def upconv_block(self, in_channels, out_channels):\n",
        "        return nn.Sequential(\n",
        "            nn.ConvTranspose2d(in_channels, out_channels, kernel_size=2, stride=2),\n",
        "            nn.ReLU(inplace=True)\n",
        "        )\n",
        "\n",
        "    def forward(self, x):\n",
        "        # Encoder forward pass\n",
        "        enc1 = self.enc1(x)\n",
        "        enc2 = self.enc2(F.max_pool2d(enc1, 2))\n",
        "        enc3 = self.enc3(F.max_pool2d(enc2, 2))\n",
        "        enc4 = self.enc4(F.max_pool2d(enc3, 2))\n",
        "\n",
        "        # Bottleneck forward pass\n",
        "        bottleneck = self.bottleneck(F.max_pool2d(enc4, 2))\n",
        "\n",
        "        # Decoder forward pass\n",
        "        upconv4 = self.upconv4(bottleneck)\n",
        "        upconv3 = self.upconv3(torch.cat([upconv4, enc4], 1))\n",
        "        upconv2 = self.upconv2(torch.cat([upconv3, enc3], 1))\n",
        "        upconv1 = self.upconv1(torch.cat([upconv2, enc2], 1))\n",
        "\n",
        "        # Final output\n",
        "        output = self.final_conv(torch.cat([upconv1, enc1], 1))\n",
        "        return output\n",
        "\n",
        "# Example usage\n",
        "model = UNet(3, 3)  # Example for RGB images\n",
        "input_tensor = torch.randn(1, 3, 256, 256)  # Example input (batch_size, channels, height, width)\n",
        "output_tensor = model(input_tensor)\n"
      ]
    }
  ],
  "metadata": {
    "colab": {
      "provenance": []
    },
    "kernelspec": {
      "display_name": "base",
      "language": "python",
      "name": "python3"
    },
    "language_info": {
      "name": "python",
      "version": "3.12.7"
    }
  },
  "nbformat": 4,
  "nbformat_minor": 0
}
